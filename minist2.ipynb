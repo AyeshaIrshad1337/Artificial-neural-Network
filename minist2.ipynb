{
 "cells": [
  {
   "cell_type": "code",
   "execution_count": 1,
   "metadata": {},
   "outputs": [
    {
     "name": "stdout",
     "output_type": "stream",
     "text": [
      "WARNING:tensorflow:From c:\\Users\\ayesh\\anaconda3\\Lib\\site-packages\\keras\\src\\losses.py:2976: The name tf.losses.sparse_softmax_cross_entropy is deprecated. Please use tf.compat.v1.losses.sparse_softmax_cross_entropy instead.\n",
      "\n",
      "Downloading data from https://storage.googleapis.com/tensorflow/tf-keras-datasets/mnist.npz\n",
      "11490434/11490434 [==============================] - 14s 1us/step\n"
     ]
    }
   ],
   "source": [
    "from tensorflow.keras.datasets import mnist\n",
    "from tensorflow.keras.utils import to_categorical\n",
    "\n",
    "(train_images, train_labels), (test_images, test_labels) = mnist.load_data()\n",
    "\n",
    "train_images = train_images.astype('float32') / 255.0\n",
    "test_images = test_images.astype('float32') / 255.0\n",
    "train_images = train_images.reshape((train_images.shape[0], -1))  # Flatten images\n",
    "test_images = test_images.reshape((test_images.shape[0], -1))\n",
    "\n",
    "train_labels = to_categorical(train_labels)\n",
    "test_labels = to_categorical(test_labels)\n"
   ]
  },
  {
   "cell_type": "code",
   "execution_count": 2,
   "metadata": {},
   "outputs": [
    {
     "name": "stdout",
     "output_type": "stream",
     "text": [
      "WARNING:tensorflow:From c:\\Users\\ayesh\\anaconda3\\Lib\\site-packages\\keras\\src\\backend.py:873: The name tf.get_default_graph is deprecated. Please use tf.compat.v1.get_default_graph instead.\n",
      "\n",
      "Epoch 1/10\n",
      "WARNING:tensorflow:From c:\\Users\\ayesh\\anaconda3\\Lib\\site-packages\\keras\\src\\utils\\tf_utils.py:492: The name tf.ragged.RaggedTensorValue is deprecated. Please use tf.compat.v1.ragged.RaggedTensorValue instead.\n",
      "\n",
      "WARNING:tensorflow:From c:\\Users\\ayesh\\anaconda3\\Lib\\site-packages\\keras\\src\\engine\\base_layer_utils.py:384: The name tf.executing_eagerly_outside_functions is deprecated. Please use tf.compat.v1.executing_eagerly_outside_functions instead.\n",
      "\n",
      "188/188 [==============================] - 7s 24ms/step - loss: 0.3444 - accuracy: 0.9038 - val_loss: 0.1709 - val_accuracy: 0.9450\n",
      "Epoch 2/10\n",
      "188/188 [==============================] - 4s 22ms/step - loss: 0.1232 - accuracy: 0.9644 - val_loss: 0.1428 - val_accuracy: 0.9555\n",
      "Epoch 3/10\n",
      "188/188 [==============================] - 4s 24ms/step - loss: 0.0797 - accuracy: 0.9753 - val_loss: 0.1223 - val_accuracy: 0.9633\n",
      "Epoch 4/10\n",
      "188/188 [==============================] - 4s 23ms/step - loss: 0.0486 - accuracy: 0.9853 - val_loss: 0.1043 - val_accuracy: 0.9683\n",
      "Epoch 5/10\n",
      "188/188 [==============================] - 5s 26ms/step - loss: 0.0306 - accuracy: 0.9903 - val_loss: 0.0995 - val_accuracy: 0.9703\n",
      "Epoch 6/10\n",
      "188/188 [==============================] - 4s 20ms/step - loss: 0.0215 - accuracy: 0.9935 - val_loss: 0.0992 - val_accuracy: 0.9725\n",
      "Epoch 7/10\n",
      "188/188 [==============================] - 4s 20ms/step - loss: 0.0128 - accuracy: 0.9965 - val_loss: 0.1113 - val_accuracy: 0.9703\n",
      "Epoch 8/10\n",
      "188/188 [==============================] - 4s 21ms/step - loss: 0.0068 - accuracy: 0.9987 - val_loss: 0.1030 - val_accuracy: 0.9728\n",
      "Epoch 9/10\n",
      "188/188 [==============================] - 5s 25ms/step - loss: 0.0061 - accuracy: 0.9985 - val_loss: 0.1045 - val_accuracy: 0.9718\n",
      "Epoch 10/10\n",
      "188/188 [==============================] - 5s 26ms/step - loss: 0.0056 - accuracy: 0.9986 - val_loss: 0.1163 - val_accuracy: 0.9737\n"
     ]
    }
   ],
   "source": [
    "from tensorflow.keras.models import Sequential\n",
    "from tensorflow.keras.layers import Dense\n",
    "from tensorflow.keras.optimizers import Adam\n",
    "\n",
    "supervised_model = Sequential([\n",
    "    Dense(512, activation='relu', input_shape=(train_images.shape[1],)),\n",
    "    Dense(256, activation='relu'),\n",
    "    Dense(10, activation='softmax')  # 10 classes for digits 0-9\n",
    "])\n",
    "\n",
    "supervised_model.compile(optimizer=Adam(), loss='categorical_crossentropy', metrics=['accuracy'])\n",
    "\n",
    "supervised_model.fit(train_images[:30000], train_labels[:30000], epochs=10, batch_size=128, validation_split=0.2)\n",
    "\n",
    "supervised_model.save_weights('supervised_mnist_weights.h5')\n"
   ]
  },
  {
   "cell_type": "code",
   "execution_count": 3,
   "metadata": {},
   "outputs": [
    {
     "name": "stdout",
     "output_type": "stream",
     "text": [
      "WARNING:tensorflow:From c:\\Users\\ayesh\\anaconda3\\Lib\\site-packages\\keras\\src\\optimizers\\__init__.py:309: The name tf.train.Optimizer is deprecated. Please use tf.compat.v1.train.Optimizer instead.\n",
      "\n",
      "Epoch 1/10\n",
      "235/235 [==============================] - 10s 34ms/step - loss: 0.2119 - val_loss: 0.1311\n",
      "Epoch 2/10\n",
      "235/235 [==============================] - 6s 26ms/step - loss: 0.1150 - val_loss: 0.1012\n",
      "Epoch 3/10\n",
      "235/235 [==============================] - 5s 23ms/step - loss: 0.0952 - val_loss: 0.0884\n",
      "Epoch 4/10\n",
      "235/235 [==============================] - 6s 28ms/step - loss: 0.0852 - val_loss: 0.0809\n",
      "Epoch 5/10\n",
      "235/235 [==============================] - 8s 33ms/step - loss: 0.0794 - val_loss: 0.0766\n",
      "Epoch 6/10\n",
      "235/235 [==============================] - 7s 32ms/step - loss: 0.0759 - val_loss: 0.0740\n",
      "Epoch 7/10\n",
      "235/235 [==============================] - 7s 30ms/step - loss: 0.0736 - val_loss: 0.0721\n",
      "Epoch 8/10\n",
      "235/235 [==============================] - 6s 26ms/step - loss: 0.0721 - val_loss: 0.0709\n",
      "Epoch 9/10\n",
      "235/235 [==============================] - 6s 25ms/step - loss: 0.0709 - val_loss: 0.0700\n",
      "Epoch 10/10\n",
      "235/235 [==============================] - 6s 27ms/step - loss: 0.0701 - val_loss: 0.0693\n"
     ]
    }
   ],
   "source": [
    "from tensorflow.keras.layers import Input, Dense\n",
    "from tensorflow.keras.models import Model\n",
    "\n",
    "input_img = Input(shape=(784,))\n",
    "encoded = Dense(128, activation='relu')(input_img)\n",
    "decoded = Dense(784, activation='sigmoid')(encoded)\n",
    "\n",
    "autoencoder = Model(input_img, decoded)\n",
    "autoencoder.compile(optimizer='adam', loss='binary_crossentropy')\n",
    "\n",
    "autoencoder.fit(train_images, train_images, epochs=10, batch_size=256, shuffle=True, validation_data=(test_images, test_images))\n",
    "\n",
    "encoder = Model(input_img, encoded)\n",
    "encoder.save_weights('unsupervised_encoder_weights.h5')\n"
   ]
  },
  {
   "cell_type": "code",
   "execution_count": 4,
   "metadata": {},
   "outputs": [],
   "source": [
    "supervised_model.load_weights('supervised_mnist_weights.h5')\n",
    "\n",
    "encoder.load_weights('unsupervised_encoder_weights.h5')\n",
    "for layer in encoder.layers:\n",
    "    layer.trainable = False  # Freeze the encoder layers\n",
    "\n",
    "final_model = Sequential(encoder.layers[:1])  # Using encoded representation\n",
    "final_model.add(supervised_model)\n",
    "\n",
    "final_model.compile(optimizer=Adam(), loss='categorical_crossentropy', metrics=['accuracy'])\n"
   ]
  },
  {
   "cell_type": "code",
   "execution_count": 5,
   "metadata": {},
   "outputs": [
    {
     "name": "stdout",
     "output_type": "stream",
     "text": [
      "Epoch 1/10\n",
      "375/375 [==============================] - 9s 21ms/step - loss: 0.0643 - accuracy: 0.9821 - val_loss: 0.0900 - val_accuracy: 0.9733\n",
      "Epoch 2/10\n",
      "375/375 [==============================] - 7s 20ms/step - loss: 0.0343 - accuracy: 0.9896 - val_loss: 0.0834 - val_accuracy: 0.9772\n",
      "Epoch 3/10\n",
      "375/375 [==============================] - 8s 20ms/step - loss: 0.0221 - accuracy: 0.9925 - val_loss: 0.1007 - val_accuracy: 0.9757\n",
      "Epoch 4/10\n",
      "375/375 [==============================] - 8s 22ms/step - loss: 0.0184 - accuracy: 0.9940 - val_loss: 0.0853 - val_accuracy: 0.9779\n",
      "Epoch 5/10\n",
      "375/375 [==============================] - 8s 22ms/step - loss: 0.0161 - accuracy: 0.9949 - val_loss: 0.1082 - val_accuracy: 0.9747\n",
      "Epoch 6/10\n",
      "375/375 [==============================] - 9s 23ms/step - loss: 0.0167 - accuracy: 0.9947 - val_loss: 0.1018 - val_accuracy: 0.9762\n",
      "Epoch 7/10\n",
      "375/375 [==============================] - 7s 19ms/step - loss: 0.0105 - accuracy: 0.9966 - val_loss: 0.1012 - val_accuracy: 0.9772\n",
      "Epoch 8/10\n",
      "375/375 [==============================] - 7s 18ms/step - loss: 0.0102 - accuracy: 0.9966 - val_loss: 0.1063 - val_accuracy: 0.9766\n",
      "Epoch 9/10\n",
      "375/375 [==============================] - 7s 19ms/step - loss: 0.0116 - accuracy: 0.9959 - val_loss: 0.0949 - val_accuracy: 0.9801\n",
      "Epoch 10/10\n",
      "375/375 [==============================] - 7s 18ms/step - loss: 0.0102 - accuracy: 0.9964 - val_loss: 0.1015 - val_accuracy: 0.9805\n",
      "313/313 [==============================] - 1s 4ms/step - loss: 0.0938 - accuracy: 0.9797\n",
      "Test accuracy: 0.9797000288963318\n"
     ]
    }
   ],
   "source": [
    "final_model.fit(train_images, train_labels, epochs=10, batch_size=128, validation_split=0.2)\n",
    "\n",
    "test_loss, test_acc = final_model.evaluate(test_images, test_labels)\n",
    "print(f'Test accuracy: {test_acc}')\n"
   ]
  },
  {
   "cell_type": "code",
   "execution_count": null,
   "metadata": {},
   "outputs": [],
   "source": []
  }
 ],
 "metadata": {
  "kernelspec": {
   "display_name": "base",
   "language": "python",
   "name": "python3"
  },
  "language_info": {
   "codemirror_mode": {
    "name": "ipython",
    "version": 3
   },
   "file_extension": ".py",
   "mimetype": "text/x-python",
   "name": "python",
   "nbconvert_exporter": "python",
   "pygments_lexer": "ipython3",
   "version": "3.11.5"
  }
 },
 "nbformat": 4,
 "nbformat_minor": 2
}
